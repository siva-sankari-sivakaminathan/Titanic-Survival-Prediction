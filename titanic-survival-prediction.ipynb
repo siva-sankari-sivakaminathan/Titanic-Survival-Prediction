{
 "cells": [
  {
   "cell_type": "code",
   "execution_count": 1,
   "id": "7c497f8f",
   "metadata": {
    "_cell_guid": "b1076dfc-b9ad-4769-8c92-a6c4dae69d19",
    "_uuid": "8f2839f25d086af736a60e9eeb907d3b93b6e0e5",
    "execution": {
     "iopub.execute_input": "2024-07-16T08:58:08.744831Z",
     "iopub.status.busy": "2024-07-16T08:58:08.744391Z",
     "iopub.status.idle": "2024-07-16T08:58:09.564148Z",
     "shell.execute_reply": "2024-07-16T08:58:09.562629Z"
    },
    "papermill": {
     "duration": 0.828614,
     "end_time": "2024-07-16T08:58:09.566418",
     "exception": false,
     "start_time": "2024-07-16T08:58:08.737804",
     "status": "completed"
    },
    "tags": []
   },
   "outputs": [
    {
     "name": "stdout",
     "output_type": "stream",
     "text": [
      "/kaggle/input/titanic/train.csv\n",
      "/kaggle/input/titanic/test.csv\n",
      "/kaggle/input/titanic/gender_submission.csv\n"
     ]
    }
   ],
   "source": [
    "import numpy as np \n",
    "import pandas as pd \n",
    "\n",
    "import os\n",
    "for dirname, _, filenames in os.walk('/kaggle/input'):\n",
    "    for filename in filenames:\n",
    "        print(os.path.join(dirname, filename))"
   ]
  },
  {
   "cell_type": "code",
   "execution_count": 2,
   "id": "ac7d9af8",
   "metadata": {
    "execution": {
     "iopub.execute_input": "2024-07-16T08:58:09.577752Z",
     "iopub.status.busy": "2024-07-16T08:58:09.576816Z",
     "iopub.status.idle": "2024-07-16T08:58:09.610093Z",
     "shell.execute_reply": "2024-07-16T08:58:09.608997Z"
    },
    "papermill": {
     "duration": 0.041494,
     "end_time": "2024-07-16T08:58:09.612708",
     "exception": false,
     "start_time": "2024-07-16T08:58:09.571214",
     "status": "completed"
    },
    "tags": []
   },
   "outputs": [],
   "source": [
    "#Load the data\n",
    "train=pd.read_csv('/kaggle/input/titanic/train.csv')\n",
    "test=pd.read_csv('/kaggle/input/titanic/test.csv')"
   ]
  },
  {
   "cell_type": "code",
   "execution_count": 3,
   "id": "85b2146f",
   "metadata": {
    "execution": {
     "iopub.execute_input": "2024-07-16T08:58:09.623705Z",
     "iopub.status.busy": "2024-07-16T08:58:09.622810Z",
     "iopub.status.idle": "2024-07-16T08:58:09.648543Z",
     "shell.execute_reply": "2024-07-16T08:58:09.647541Z"
    },
    "papermill": {
     "duration": 0.033478,
     "end_time": "2024-07-16T08:58:09.650679",
     "exception": false,
     "start_time": "2024-07-16T08:58:09.617201",
     "status": "completed"
    },
    "tags": []
   },
   "outputs": [
    {
     "data": {
      "text/html": [
       "<div>\n",
       "<style scoped>\n",
       "    .dataframe tbody tr th:only-of-type {\n",
       "        vertical-align: middle;\n",
       "    }\n",
       "\n",
       "    .dataframe tbody tr th {\n",
       "        vertical-align: top;\n",
       "    }\n",
       "\n",
       "    .dataframe thead th {\n",
       "        text-align: right;\n",
       "    }\n",
       "</style>\n",
       "<table border=\"1\" class=\"dataframe\">\n",
       "  <thead>\n",
       "    <tr style=\"text-align: right;\">\n",
       "      <th></th>\n",
       "      <th>PassengerId</th>\n",
       "      <th>Survived</th>\n",
       "      <th>Pclass</th>\n",
       "      <th>Name</th>\n",
       "      <th>Sex</th>\n",
       "      <th>Age</th>\n",
       "      <th>SibSp</th>\n",
       "      <th>Parch</th>\n",
       "      <th>Ticket</th>\n",
       "      <th>Fare</th>\n",
       "      <th>Cabin</th>\n",
       "      <th>Embarked</th>\n",
       "    </tr>\n",
       "  </thead>\n",
       "  <tbody>\n",
       "    <tr>\n",
       "      <th>0</th>\n",
       "      <td>1</td>\n",
       "      <td>0</td>\n",
       "      <td>3</td>\n",
       "      <td>Braund, Mr. Owen Harris</td>\n",
       "      <td>male</td>\n",
       "      <td>22.0</td>\n",
       "      <td>1</td>\n",
       "      <td>0</td>\n",
       "      <td>A/5 21171</td>\n",
       "      <td>7.2500</td>\n",
       "      <td>NaN</td>\n",
       "      <td>S</td>\n",
       "    </tr>\n",
       "    <tr>\n",
       "      <th>1</th>\n",
       "      <td>2</td>\n",
       "      <td>1</td>\n",
       "      <td>1</td>\n",
       "      <td>Cumings, Mrs. John Bradley (Florence Briggs Th...</td>\n",
       "      <td>female</td>\n",
       "      <td>38.0</td>\n",
       "      <td>1</td>\n",
       "      <td>0</td>\n",
       "      <td>PC 17599</td>\n",
       "      <td>71.2833</td>\n",
       "      <td>C85</td>\n",
       "      <td>C</td>\n",
       "    </tr>\n",
       "    <tr>\n",
       "      <th>2</th>\n",
       "      <td>3</td>\n",
       "      <td>1</td>\n",
       "      <td>3</td>\n",
       "      <td>Heikkinen, Miss. Laina</td>\n",
       "      <td>female</td>\n",
       "      <td>26.0</td>\n",
       "      <td>0</td>\n",
       "      <td>0</td>\n",
       "      <td>STON/O2. 3101282</td>\n",
       "      <td>7.9250</td>\n",
       "      <td>NaN</td>\n",
       "      <td>S</td>\n",
       "    </tr>\n",
       "    <tr>\n",
       "      <th>3</th>\n",
       "      <td>4</td>\n",
       "      <td>1</td>\n",
       "      <td>1</td>\n",
       "      <td>Futrelle, Mrs. Jacques Heath (Lily May Peel)</td>\n",
       "      <td>female</td>\n",
       "      <td>35.0</td>\n",
       "      <td>1</td>\n",
       "      <td>0</td>\n",
       "      <td>113803</td>\n",
       "      <td>53.1000</td>\n",
       "      <td>C123</td>\n",
       "      <td>S</td>\n",
       "    </tr>\n",
       "  </tbody>\n",
       "</table>\n",
       "</div>"
      ],
      "text/plain": [
       "   PassengerId  Survived  Pclass  \\\n",
       "0            1         0       3   \n",
       "1            2         1       1   \n",
       "2            3         1       3   \n",
       "3            4         1       1   \n",
       "\n",
       "                                                Name     Sex   Age  SibSp  \\\n",
       "0                            Braund, Mr. Owen Harris    male  22.0      1   \n",
       "1  Cumings, Mrs. John Bradley (Florence Briggs Th...  female  38.0      1   \n",
       "2                             Heikkinen, Miss. Laina  female  26.0      0   \n",
       "3       Futrelle, Mrs. Jacques Heath (Lily May Peel)  female  35.0      1   \n",
       "\n",
       "   Parch            Ticket     Fare Cabin Embarked  \n",
       "0      0         A/5 21171   7.2500   NaN        S  \n",
       "1      0          PC 17599  71.2833   C85        C  \n",
       "2      0  STON/O2. 3101282   7.9250   NaN        S  \n",
       "3      0            113803  53.1000  C123        S  "
      ]
     },
     "execution_count": 3,
     "metadata": {},
     "output_type": "execute_result"
    }
   ],
   "source": [
    "#view sample of training data\n",
    "\n",
    "train[:4]"
   ]
  },
  {
   "cell_type": "code",
   "execution_count": 4,
   "id": "e74b4127",
   "metadata": {
    "execution": {
     "iopub.execute_input": "2024-07-16T08:58:09.661640Z",
     "iopub.status.busy": "2024-07-16T08:58:09.660900Z",
     "iopub.status.idle": "2024-07-16T08:58:09.672040Z",
     "shell.execute_reply": "2024-07-16T08:58:09.670604Z"
    },
    "papermill": {
     "duration": 0.019671,
     "end_time": "2024-07-16T08:58:09.674912",
     "exception": false,
     "start_time": "2024-07-16T08:58:09.655241",
     "status": "completed"
    },
    "tags": []
   },
   "outputs": [
    {
     "data": {
      "text/plain": [
       "PassengerId      0\n",
       "Survived         0\n",
       "Pclass           0\n",
       "Name             0\n",
       "Sex              0\n",
       "Age            177\n",
       "SibSp            0\n",
       "Parch            0\n",
       "Ticket           0\n",
       "Fare             0\n",
       "Cabin          687\n",
       "Embarked         2\n",
       "dtype: int64"
      ]
     },
     "execution_count": 4,
     "metadata": {},
     "output_type": "execute_result"
    }
   ],
   "source": [
    "#check for missing data \n",
    "train.isnull().sum()\n"
   ]
  },
  {
   "cell_type": "code",
   "execution_count": 5,
   "id": "24d96be1",
   "metadata": {
    "execution": {
     "iopub.execute_input": "2024-07-16T08:58:09.686948Z",
     "iopub.status.busy": "2024-07-16T08:58:09.685902Z",
     "iopub.status.idle": "2024-07-16T08:58:09.694418Z",
     "shell.execute_reply": "2024-07-16T08:58:09.693428Z"
    },
    "papermill": {
     "duration": 0.01676,
     "end_time": "2024-07-16T08:58:09.696661",
     "exception": false,
     "start_time": "2024-07-16T08:58:09.679901",
     "status": "completed"
    },
    "tags": []
   },
   "outputs": [
    {
     "data": {
      "text/plain": [
       "PassengerId      0\n",
       "Pclass           0\n",
       "Name             0\n",
       "Sex              0\n",
       "Age             86\n",
       "SibSp            0\n",
       "Parch            0\n",
       "Ticket           0\n",
       "Fare             1\n",
       "Cabin          327\n",
       "Embarked         0\n",
       "dtype: int64"
      ]
     },
     "execution_count": 5,
     "metadata": {},
     "output_type": "execute_result"
    }
   ],
   "source": [
    "test.isnull().sum()\n"
   ]
  },
  {
   "cell_type": "markdown",
   "id": "5b73d025",
   "metadata": {
    "papermill": {
     "duration": 0.004637,
     "end_time": "2024-07-16T08:58:09.706226",
     "exception": false,
     "start_time": "2024-07-16T08:58:09.701589",
     "status": "completed"
    },
    "tags": []
   },
   "source": [
    "**DATA PREPARATION**"
   ]
  },
  {
   "cell_type": "code",
   "execution_count": 6,
   "id": "f9c41832",
   "metadata": {
    "execution": {
     "iopub.execute_input": "2024-07-16T08:58:09.717668Z",
     "iopub.status.busy": "2024-07-16T08:58:09.717277Z",
     "iopub.status.idle": "2024-07-16T08:58:09.727232Z",
     "shell.execute_reply": "2024-07-16T08:58:09.726228Z"
    },
    "papermill": {
     "duration": 0.018632,
     "end_time": "2024-07-16T08:58:09.729700",
     "exception": false,
     "start_time": "2024-07-16T08:58:09.711068",
     "status": "completed"
    },
    "tags": []
   },
   "outputs": [],
   "source": [
    "impute_value = train['Age'].median() #imputation to fill missing values using median\n",
    "train['Age'] = train['Age'].fillna(impute_value)\n",
    "test['Age'] = test['Age'].fillna(impute_value)"
   ]
  },
  {
   "cell_type": "code",
   "execution_count": 7,
   "id": "5ecd075e",
   "metadata": {
    "execution": {
     "iopub.execute_input": "2024-07-16T08:58:09.741671Z",
     "iopub.status.busy": "2024-07-16T08:58:09.741311Z",
     "iopub.status.idle": "2024-07-16T08:58:09.748928Z",
     "shell.execute_reply": "2024-07-16T08:58:09.747936Z"
    },
    "papermill": {
     "duration": 0.01603,
     "end_time": "2024-07-16T08:58:09.751113",
     "exception": false,
     "start_time": "2024-07-16T08:58:09.735083",
     "status": "completed"
    },
    "tags": []
   },
   "outputs": [],
   "source": [
    "train['IsFemale'] = (train['Sex'] == 'female').astype(int) #Encoded version of Sex\n",
    "test['IsFemale'] = (test['Sex'] == 'female').astype(int)"
   ]
  },
  {
   "cell_type": "code",
   "execution_count": 8,
   "id": "6a368094",
   "metadata": {
    "execution": {
     "iopub.execute_input": "2024-07-16T08:58:09.762333Z",
     "iopub.status.busy": "2024-07-16T08:58:09.761967Z",
     "iopub.status.idle": "2024-07-16T08:58:09.777273Z",
     "shell.execute_reply": "2024-07-16T08:58:09.776179Z"
    },
    "papermill": {
     "duration": 0.023384,
     "end_time": "2024-07-16T08:58:09.779394",
     "exception": false,
     "start_time": "2024-07-16T08:58:09.756010",
     "status": "completed"
    },
    "tags": []
   },
   "outputs": [
    {
     "data": {
      "text/plain": [
       "array([[ 3.,  0., 22.],\n",
       "       [ 1.,  1., 38.],\n",
       "       [ 3.,  1., 26.],\n",
       "       [ 1.,  1., 35.],\n",
       "       [ 3.,  0., 35.]])"
      ]
     },
     "execution_count": 8,
     "metadata": {},
     "output_type": "execute_result"
    }
   ],
   "source": [
    "#model variables \n",
    "\n",
    "predictors = ['Pclass', 'IsFemale', 'Age']\n",
    "X_train = train[predictors].values\n",
    "X_test = test[predictors].values\n",
    "y_train = train['Survived'].values\n",
    "X_train[:5] "
   ]
  },
  {
   "cell_type": "code",
   "execution_count": 9,
   "id": "6f7f08ea",
   "metadata": {
    "execution": {
     "iopub.execute_input": "2024-07-16T08:58:09.790673Z",
     "iopub.status.busy": "2024-07-16T08:58:09.790314Z",
     "iopub.status.idle": "2024-07-16T08:58:09.798529Z",
     "shell.execute_reply": "2024-07-16T08:58:09.797553Z"
    },
    "papermill": {
     "duration": 0.01633,
     "end_time": "2024-07-16T08:58:09.800632",
     "exception": false,
     "start_time": "2024-07-16T08:58:09.784302",
     "status": "completed"
    },
    "tags": []
   },
   "outputs": [
    {
     "data": {
      "text/plain": [
       "0.7420382165605095"
      ]
     },
     "execution_count": 9,
     "metadata": {},
     "output_type": "execute_result"
    }
   ],
   "source": [
    "#Explore pattern\n",
    "\n",
    "women = train.loc[train.Sex == 'female'][\"Survived\"]\n",
    "rate_women = sum(women)/len(women)\n",
    "\n",
    "rate_women"
   ]
  },
  {
   "cell_type": "code",
   "execution_count": 10,
   "id": "744e8a97",
   "metadata": {
    "execution": {
     "iopub.execute_input": "2024-07-16T08:58:09.812141Z",
     "iopub.status.busy": "2024-07-16T08:58:09.811764Z",
     "iopub.status.idle": "2024-07-16T08:58:09.820784Z",
     "shell.execute_reply": "2024-07-16T08:58:09.819767Z"
    },
    "papermill": {
     "duration": 0.017589,
     "end_time": "2024-07-16T08:58:09.823180",
     "exception": false,
     "start_time": "2024-07-16T08:58:09.805591",
     "status": "completed"
    },
    "tags": []
   },
   "outputs": [
    {
     "data": {
      "text/plain": [
       "0.18890814558058924"
      ]
     },
     "execution_count": 10,
     "metadata": {},
     "output_type": "execute_result"
    }
   ],
   "source": [
    "men = train.loc[train.Sex == 'male'][\"Survived\"]\n",
    "rate_men = sum(men)/len(men)\n",
    "\n",
    "rate_men"
   ]
  },
  {
   "cell_type": "markdown",
   "id": "77a25fb9",
   "metadata": {
    "papermill": {
     "duration": 0.005117,
     "end_time": "2024-07-16T08:58:09.833489",
     "exception": false,
     "start_time": "2024-07-16T08:58:09.828372",
     "status": "completed"
    },
    "tags": []
   },
   "source": [
    "**PREDICTION OF SURVIVAL**"
   ]
  },
  {
   "cell_type": "code",
   "execution_count": 11,
   "id": "9274f09d",
   "metadata": {
    "execution": {
     "iopub.execute_input": "2024-07-16T08:58:09.846152Z",
     "iopub.status.busy": "2024-07-16T08:58:09.845745Z",
     "iopub.status.idle": "2024-07-16T08:58:11.062301Z",
     "shell.execute_reply": "2024-07-16T08:58:11.061157Z"
    },
    "papermill": {
     "duration": 1.225795,
     "end_time": "2024-07-16T08:58:11.064940",
     "exception": false,
     "start_time": "2024-07-16T08:58:09.839145",
     "status": "completed"
    },
    "tags": []
   },
   "outputs": [],
   "source": [
    "#Using Logistic Regression Model\n",
    "\n",
    "from sklearn.linear_model import LogisticRegression\n",
    "model = LogisticRegression()"
   ]
  },
  {
   "cell_type": "code",
   "execution_count": 12,
   "id": "9dea4fca",
   "metadata": {
    "execution": {
     "iopub.execute_input": "2024-07-16T08:58:11.077521Z",
     "iopub.status.busy": "2024-07-16T08:58:11.076737Z",
     "iopub.status.idle": "2024-07-16T08:58:11.100779Z",
     "shell.execute_reply": "2024-07-16T08:58:11.099486Z"
    },
    "papermill": {
     "duration": 0.032858,
     "end_time": "2024-07-16T08:58:11.103157",
     "exception": false,
     "start_time": "2024-07-16T08:58:11.070299",
     "status": "completed"
    },
    "tags": []
   },
   "outputs": [
    {
     "data": {
      "text/html": [
       "<style>#sk-container-id-1 {color: black;background-color: white;}#sk-container-id-1 pre{padding: 0;}#sk-container-id-1 div.sk-toggleable {background-color: white;}#sk-container-id-1 label.sk-toggleable__label {cursor: pointer;display: block;width: 100%;margin-bottom: 0;padding: 0.3em;box-sizing: border-box;text-align: center;}#sk-container-id-1 label.sk-toggleable__label-arrow:before {content: \"▸\";float: left;margin-right: 0.25em;color: #696969;}#sk-container-id-1 label.sk-toggleable__label-arrow:hover:before {color: black;}#sk-container-id-1 div.sk-estimator:hover label.sk-toggleable__label-arrow:before {color: black;}#sk-container-id-1 div.sk-toggleable__content {max-height: 0;max-width: 0;overflow: hidden;text-align: left;background-color: #f0f8ff;}#sk-container-id-1 div.sk-toggleable__content pre {margin: 0.2em;color: black;border-radius: 0.25em;background-color: #f0f8ff;}#sk-container-id-1 input.sk-toggleable__control:checked~div.sk-toggleable__content {max-height: 200px;max-width: 100%;overflow: auto;}#sk-container-id-1 input.sk-toggleable__control:checked~label.sk-toggleable__label-arrow:before {content: \"▾\";}#sk-container-id-1 div.sk-estimator input.sk-toggleable__control:checked~label.sk-toggleable__label {background-color: #d4ebff;}#sk-container-id-1 div.sk-label input.sk-toggleable__control:checked~label.sk-toggleable__label {background-color: #d4ebff;}#sk-container-id-1 input.sk-hidden--visually {border: 0;clip: rect(1px 1px 1px 1px);clip: rect(1px, 1px, 1px, 1px);height: 1px;margin: -1px;overflow: hidden;padding: 0;position: absolute;width: 1px;}#sk-container-id-1 div.sk-estimator {font-family: monospace;background-color: #f0f8ff;border: 1px dotted black;border-radius: 0.25em;box-sizing: border-box;margin-bottom: 0.5em;}#sk-container-id-1 div.sk-estimator:hover {background-color: #d4ebff;}#sk-container-id-1 div.sk-parallel-item::after {content: \"\";width: 100%;border-bottom: 1px solid gray;flex-grow: 1;}#sk-container-id-1 div.sk-label:hover label.sk-toggleable__label {background-color: #d4ebff;}#sk-container-id-1 div.sk-serial::before {content: \"\";position: absolute;border-left: 1px solid gray;box-sizing: border-box;top: 0;bottom: 0;left: 50%;z-index: 0;}#sk-container-id-1 div.sk-serial {display: flex;flex-direction: column;align-items: center;background-color: white;padding-right: 0.2em;padding-left: 0.2em;position: relative;}#sk-container-id-1 div.sk-item {position: relative;z-index: 1;}#sk-container-id-1 div.sk-parallel {display: flex;align-items: stretch;justify-content: center;background-color: white;position: relative;}#sk-container-id-1 div.sk-item::before, #sk-container-id-1 div.sk-parallel-item::before {content: \"\";position: absolute;border-left: 1px solid gray;box-sizing: border-box;top: 0;bottom: 0;left: 50%;z-index: -1;}#sk-container-id-1 div.sk-parallel-item {display: flex;flex-direction: column;z-index: 1;position: relative;background-color: white;}#sk-container-id-1 div.sk-parallel-item:first-child::after {align-self: flex-end;width: 50%;}#sk-container-id-1 div.sk-parallel-item:last-child::after {align-self: flex-start;width: 50%;}#sk-container-id-1 div.sk-parallel-item:only-child::after {width: 0;}#sk-container-id-1 div.sk-dashed-wrapped {border: 1px dashed gray;margin: 0 0.4em 0.5em 0.4em;box-sizing: border-box;padding-bottom: 0.4em;background-color: white;}#sk-container-id-1 div.sk-label label {font-family: monospace;font-weight: bold;display: inline-block;line-height: 1.2em;}#sk-container-id-1 div.sk-label-container {text-align: center;}#sk-container-id-1 div.sk-container {/* jupyter's `normalize.less` sets `[hidden] { display: none; }` but bootstrap.min.css set `[hidden] { display: none !important; }` so we also need the `!important` here to be able to override the default hidden behavior on the sphinx rendered scikit-learn.org. See: https://github.com/scikit-learn/scikit-learn/issues/21755 */display: inline-block !important;position: relative;}#sk-container-id-1 div.sk-text-repr-fallback {display: none;}</style><div id=\"sk-container-id-1\" class=\"sk-top-container\"><div class=\"sk-text-repr-fallback\"><pre>LogisticRegression()</pre><b>In a Jupyter environment, please rerun this cell to show the HTML representation or trust the notebook. <br />On GitHub, the HTML representation is unable to render, please try loading this page with nbviewer.org.</b></div><div class=\"sk-container\" hidden><div class=\"sk-item\"><div class=\"sk-estimator sk-toggleable\"><input class=\"sk-toggleable__control sk-hidden--visually\" id=\"sk-estimator-id-1\" type=\"checkbox\" checked><label for=\"sk-estimator-id-1\" class=\"sk-toggleable__label sk-toggleable__label-arrow\">LogisticRegression</label><div class=\"sk-toggleable__content\"><pre>LogisticRegression()</pre></div></div></div></div></div>"
      ],
      "text/plain": [
       "LogisticRegression()"
      ]
     },
     "execution_count": 12,
     "metadata": {},
     "output_type": "execute_result"
    }
   ],
   "source": [
    "#Fit model to training data \n",
    "model.fit(X_train, y_train)"
   ]
  },
  {
   "cell_type": "code",
   "execution_count": 13,
   "id": "af34e0ce",
   "metadata": {
    "execution": {
     "iopub.execute_input": "2024-07-16T08:58:11.116915Z",
     "iopub.status.busy": "2024-07-16T08:58:11.115934Z",
     "iopub.status.idle": "2024-07-16T08:58:11.123179Z",
     "shell.execute_reply": "2024-07-16T08:58:11.122192Z"
    },
    "papermill": {
     "duration": 0.016492,
     "end_time": "2024-07-16T08:58:11.125285",
     "exception": false,
     "start_time": "2024-07-16T08:58:11.108793",
     "status": "completed"
    },
    "tags": []
   },
   "outputs": [
    {
     "data": {
      "text/plain": [
       "array([0, 0, 0, 0, 1, 0, 1, 0, 1, 0])"
      ]
     },
     "execution_count": 13,
     "metadata": {},
     "output_type": "execute_result"
    }
   ],
   "source": [
    "#Make predictions on the test dataset\n",
    "y_predict = model.predict(X_test)\n",
    "y_predict[:10]"
   ]
  },
  {
   "cell_type": "code",
   "execution_count": 14,
   "id": "d9eafae6",
   "metadata": {
    "execution": {
     "iopub.execute_input": "2024-07-16T08:58:11.138833Z",
     "iopub.status.busy": "2024-07-16T08:58:11.137917Z",
     "iopub.status.idle": "2024-07-16T08:58:11.177807Z",
     "shell.execute_reply": "2024-07-16T08:58:11.176758Z"
    },
    "papermill": {
     "duration": 0.049417,
     "end_time": "2024-07-16T08:58:11.180262",
     "exception": false,
     "start_time": "2024-07-16T08:58:11.130845",
     "status": "completed"
    },
    "tags": []
   },
   "outputs": [
    {
     "data": {
      "text/plain": [
       "array([0.77578475, 0.79820628, 0.77578475, 0.78828829])"
      ]
     },
     "execution_count": 14,
     "metadata": {},
     "output_type": "execute_result"
    }
   ],
   "source": [
    "#Cross Validation \n",
    "\n",
    "from sklearn.model_selection import cross_val_score\n",
    "model = LogisticRegression(C=10)\n",
    "scores = cross_val_score(model, X_train, y_train, cv=4)\n",
    "scores"
   ]
  }
 ],
 "metadata": {
  "kaggle": {
   "accelerator": "none",
   "dataSources": [
    {
     "databundleVersionId": 26502,
     "sourceId": 3136,
     "sourceType": "competition"
    }
   ],
   "dockerImageVersionId": 30746,
   "isGpuEnabled": false,
   "isInternetEnabled": true,
   "language": "python",
   "sourceType": "notebook"
  },
  "kernelspec": {
   "display_name": "Python 3",
   "language": "python",
   "name": "python3"
  },
  "language_info": {
   "codemirror_mode": {
    "name": "ipython",
    "version": 3
   },
   "file_extension": ".py",
   "mimetype": "text/x-python",
   "name": "python",
   "nbconvert_exporter": "python",
   "pygments_lexer": "ipython3",
   "version": "3.10.13"
  },
  "papermill": {
   "default_parameters": {},
   "duration": 5.706132,
   "end_time": "2024-07-16T08:58:11.707176",
   "environment_variables": {},
   "exception": null,
   "input_path": "__notebook__.ipynb",
   "output_path": "__notebook__.ipynb",
   "parameters": {},
   "start_time": "2024-07-16T08:58:06.001044",
   "version": "2.5.0"
  }
 },
 "nbformat": 4,
 "nbformat_minor": 5
}
